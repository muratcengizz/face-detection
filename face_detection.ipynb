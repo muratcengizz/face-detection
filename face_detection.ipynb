{
 "cells": [
  {
   "cell_type": "code",
   "execution_count": 2,
   "id": "f25cf476-29d7-41a3-a334-d3535cfda5be",
   "metadata": {},
   "outputs": [],
   "source": [
    "import cv2\n",
    "import mediapipe as mp"
   ]
  },
  {
   "cell_type": "code",
   "execution_count": 40,
   "id": "59fa616b-8f7f-461e-9378-1031f6166db6",
   "metadata": {},
   "outputs": [],
   "source": [
    "video = cv2.VideoCapture(0)\n",
    "\n",
    "mpFace = mp.solutions.face_detection\n",
    "face = mpFace.FaceDetection(model_selection=1, min_detection_confidence=0.2)\n",
    "\n",
    "mpDraw = mp.solutions.drawing_utils\n",
    "\n",
    "while True:\n",
    "    retval, img = video.read()\n",
    "    if not retval: break\n",
    "    \n",
    "    results = face.process(image=img).detections\n",
    "    if results:\n",
    "        for id, detection in enumerate(results):\n",
    "            bboxC = detection.location_data.relative_bounding_box\n",
    "            height, width, color = img.shape\n",
    "            bbox = (int(bboxC.xmin * width),\n",
    "                    int(bboxC.ymin * height),\n",
    "                    int(bboxC.width * width),\n",
    "                    int(bboxC.height * height))\n",
    "            cv2.rectangle(img=img, rec=bbox, color=(0, 255, 255), thickness=3)\n",
    "    \n",
    "    img = cv2.flip(src=img, flipCode=1)\n",
    "    cv2.imshow(winname=\"Video\", mat=img)\n",
    "    if cv2.waitKey(50) == ord(\"q\"): break\n",
    "\n",
    "video.release()\n",
    "cv2.destroyAllWindows()"
   ]
  },
  {
   "cell_type": "markdown",
   "id": "be342dba-eff0-4c11-b83c-589dfeb0fa61",
   "metadata": {},
   "source": [
    "## mp.solutions.face_detection.FaceDetection(model_selection, min_detection_confidence)\n",
    "### Bu sınıf, görüntülerde yüz tespiti yapmak için kullanılır. Yüz tespiti, bir görüntüdeki yüzlerin konumunu ve sınırlayıcı kutularını belirlemek anlamına gelir.\n",
    "### model_selection: Bu parametre, kullanılacak yüz tespit modelini belirler. Varsayılan değeri 0'dır ve MediaPipe Face Detection Lite modelini kullanır. 1 olarak ayarladığında, daha ayrıntılı bir model olan MediaPipe Face Detection Full modelini kullanır.\n",
    "### min_detection_confidence: Bu parametre, algılanan yüzlerin güven düzeyini belirler. Bir yüzün algılanması için bu güven düzeyi değerinin altında olmamalıdır. Bu değer aralığı 0 ile 1 arasındadır ve varsayılan değeri 0.5'tir."
   ]
  }
 ],
 "metadata": {
  "kernelspec": {
   "display_name": "Python 3 (ipykernel)",
   "language": "python",
   "name": "python3"
  },
  "language_info": {
   "codemirror_mode": {
    "name": "ipython",
    "version": 3
   },
   "file_extension": ".py",
   "mimetype": "text/x-python",
   "name": "python",
   "nbconvert_exporter": "python",
   "pygments_lexer": "ipython3",
   "version": "3.9.12"
  }
 },
 "nbformat": 4,
 "nbformat_minor": 5
}
